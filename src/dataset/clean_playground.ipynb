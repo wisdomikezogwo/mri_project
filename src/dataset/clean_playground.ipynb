{
 "cells": [
  {
   "cell_type": "code",
   "execution_count": 148,
   "id": "64e6a39b",
   "metadata": {},
   "outputs": [],
   "source": [
    "import pandas as pd\n",
    "import numpy as np\n",
    "import pprint\n",
    "\n",
    "\n",
    "import torch\n",
    "from torch.utils.data import Dataset\n",
    "from torch.utils.data import DataLoader\n",
    "from torch.utils.tensorboard import SummaryWriter\n",
    "from torchvision import utils\n",
    "\n",
    "import os\n",
    "import nibabel as nib\n",
    "import copy\n",
    "\n",
    "import matplotlib.pyplot as plt\n",
    "%matplotlib inline\n",
    "\n",
    "import random\n",
    "import skimage.transform as skTrans\n",
    "import cv2\n",
    "from numpy import logical_and as l_and, logical_not as l_not\n",
    "from scipy.spatial.distance import directed_hausdorff\n"
   ]
  },
  {
   "cell_type": "code",
   "execution_count": 2,
   "id": "bc240532",
   "metadata": {},
   "outputs": [
    {
     "data": {
      "text/plain": [
       "device(type='cpu')"
      ]
     },
     "execution_count": 2,
     "metadata": {},
     "output_type": "execute_result"
    }
   ],
   "source": [
    "device = torch.device(\"cuda:0\" if torch.cuda.is_available() else \"cpu\")\n",
    "device"
   ]
  },
  {
   "cell_type": "markdown",
   "id": "58c90779",
   "metadata": {},
   "source": [
    "# Data"
   ]
  },
  {
   "cell_type": "code",
   "execution_count": 3,
   "id": "204b250c",
   "metadata": {},
   "outputs": [],
   "source": [
    "image_dir = '../../MICCAI_BraTS2020_TrainingData/'\n",
    "naming = pd.read_csv(f'../../MICCAI_BraTS2020_TrainingData/name_mapping.csv') # , index_col=0)\n",
    "data_df = pd.DataFrame(naming['BraTS_2020_subject_ID'])\n",
    "n_p = 50 # n_patients_to_train_with\n",
    "train_df = data_df[:n_p]\n",
    "valid_df = data_df[n_p:n_p*2]"
   ]
  },
  {
   "cell_type": "code",
   "execution_count": 5,
   "id": "bfae286c",
   "metadata": {},
   "outputs": [],
   "source": [
    "channels = 4\n",
    "resize_shape = (144,144,144)"
   ]
  },
  {
   "cell_type": "markdown",
   "id": "90819646",
   "metadata": {},
   "source": [
    "# Transformations"
   ]
  },
  {
   "cell_type": "code",
   "execution_count": 4,
   "id": "e8ce21c3",
   "metadata": {},
   "outputs": [],
   "source": [
    "class ScaleToFixed(object):\n",
    "\n",
    "    def __init__(self, new_shape, interpolation=1, channels=4):\n",
    "        self.shape= new_shape\n",
    "        self.interpolation = interpolation\n",
    "        self.channels = channels\n",
    "\n",
    "    def __call__(self, image):\n",
    "        # print('first shape', image.shape)\n",
    "        if image is not None: # (some patients don't have segmentations)\n",
    "            if self.channels == 1:\n",
    "                short_shape = (self.shape[1], self.shape[2], self.shape[3])\n",
    "                image = skTrans.resize(image, short_shape, order=self.interpolation, preserve_range=True)  #\n",
    "                image = image.reshape(self.shape)\n",
    "            else:\n",
    "                image = skTrans.resize(image, self.shape, order=self.interpolation, preserve_range=True)  #\n",
    "\n",
    "        # print('second shape', image.shape)\n",
    "        # print()\n",
    "        return image\n",
    "\n",
    "class RandomFlip(object):\n",
    "    \"\"\"Randomly flips (horizontally as well as vertically) the given PIL.Image with a probability of 0.5\n",
    "    \"\"\"\n",
    "    def __init__(self, prob_flip=0.5):\n",
    "        self.prob_flip= prob_flip\n",
    "    def __call__(self, image):\n",
    "\n",
    "        if random.random() < self.prob_flip:\n",
    "            flip_type = np.random.randint(0, 3) # flip across any 3D axis\n",
    "            image = np.flip(image, flip_type)\n",
    "        return image\n",
    "\n",
    "class ZeroChannel(object):\n",
    "    \"\"\"Randomly sets channel to zero the given PIL.Image with a probability of 0.25\n",
    "    \"\"\"\n",
    "    def __init__(self, prob_zero=0.25, channels=4):\n",
    "        self.prob_zero= prob_zero\n",
    "        self.channels = channels\n",
    "    def __call__(self, image):\n",
    "\n",
    "        if np.random.random() < self.prob_zero:\n",
    "            channel_to_zero = np.random.randint(0, self.channels) # flip across any 3D axis\n",
    "            zeros = np.zeros((image.shape[1], image.shape[2], image.shape[3]))\n",
    "            image[channel_to_zero, :, :, :] = zeros\n",
    "        return image\n",
    "\n",
    "class ZeroSprinkle(object):\n",
    "    def __init__(self, prob_zero=0.25, prob_true=0.5, channels=4):\n",
    "        self.prob_zero=prob_zero\n",
    "        self.prob_true=prob_true\n",
    "        self.channels=channels\n",
    "    def __call__(self, image):\n",
    "\n",
    "        if self.prob_true:\n",
    "            mask = np.random.rand(image.shape[0], image.shape[1], image.shape[2], image.shape[3])\n",
    "            mask[mask < self.prob_zero] = 0\n",
    "            mask[mask > 0] = 1\n",
    "            image = image*mask\n",
    "\n",
    "        return image\n",
    "\n",
    "\n",
    "class MinMaxNormalize(object):\n",
    "    \"\"\"Min-Max normalization\n",
    "    \"\"\"\n",
    "    def __call__(self, image):\n",
    "        def norm(im):\n",
    "            im = im.astype(np.float32)\n",
    "            min_v = np.min(im)\n",
    "            max_v = np.max(im)\n",
    "            im = (im - min_v)/(max_v - min_v)\n",
    "            return im\n",
    "        image = norm(image)\n",
    "        return image\n",
    "\n",
    "class ToTensor(object):\n",
    "    def __init__(self, scale=1):\n",
    "        self.scale = scale\n",
    "\n",
    "    def __call__(self, image):\n",
    "        if image is not None:\n",
    "            image = image.astype(np.float32)\n",
    "            image = image.reshape((image.shape[0], int(image.shape[1]/self.scale), int(image.shape[2]/self.scale), int(image.shape[3]/self.scale)))\n",
    "            image_tensor = torch.from_numpy(image)\n",
    "            return image_tensor\n",
    "        else:\n",
    "            return image\n",
    "\n",
    "\n",
    "class Compose(object):\n",
    "    \"\"\"\n",
    "    Composes several transforms together.\n",
    "    \"\"\"\n",
    "\n",
    "    def __init__(self, transforms):\n",
    "        self.transforms = transforms\n",
    "\n",
    "    def __call__(self, image):\n",
    "        for i, t in enumerate(self.transforms):\n",
    "            image = t(image)\n",
    "        return image"
   ]
  },
  {
   "cell_type": "code",
   "execution_count": 6,
   "id": "3c6bf09b",
   "metadata": {},
   "outputs": [],
   "source": [
    "\n",
    "# basic data augmentation\n",
    "prob_voxel_zero = 0 # 0.1\n",
    "prob_channel_zero = 0 # 0.5\n",
    "prob_true = 0 # 0.8\n",
    "randomflip = RandomFlip()\n",
    "\n",
    "# MRI transformations\n",
    "train_transformations = Compose([\n",
    "    MinMaxNormalize(),\n",
    "    ScaleToFixed((channels, resize_shape[0],resize_shape[1],resize_shape[2]),\n",
    "                          interpolation=1,\n",
    "                          channels=channels),\n",
    "    ZeroSprinkle(prob_zero=prob_voxel_zero, prob_true=prob_true),\n",
    "    ZeroChannel(prob_zero=prob_channel_zero),\n",
    "    randomflip,\n",
    "    ToTensor()\n",
    "])\n",
    "\n",
    "# GT segmentation mask transformations\n",
    "\n",
    "seg_transformations = Compose([\n",
    "            ScaleToFixed((1, resize_shape[0],resize_shape[1],resize_shape[2]),\n",
    "                                      interpolation=0,\n",
    "                                      channels=1),\n",
    "            randomflip,\n",
    "            ToTensor(),\n",
    "        ])"
   ]
  },
  {
   "cell_type": "markdown",
   "id": "b7e8051d",
   "metadata": {},
   "source": [
    "# Dataloader"
   ]
  },
  {
   "cell_type": "code",
   "execution_count": 7,
   "id": "7204ab0b",
   "metadata": {},
   "outputs": [],
   "source": [
    "def get_bb_3D(img, pad=0):\n",
    "    '''\n",
    "    This function returns a tumor 3D bounding box using a segmentation mask\n",
    "    '''\n",
    "    xs = np.nonzero(np.sum(np.sum(img, axis=1), axis=1))\n",
    "    ys = np.nonzero(np.sum(np.sum(img, axis=0), axis=1))\n",
    "    zs = np.nonzero(np.sum(np.sum(img, axis=0), axis=0))\n",
    "    xmin, xmax = np.min(xs), np.max(xs)\n",
    "    ymin, ymax = np.min(ys), np.max(ys)\n",
    "    zmin, zmax = np.min(zs), np.max(zs)\n",
    "    bbox = (xmin-pad, ymin-pad, zmin-pad, xmax+pad, ymax+pad, zmax+pad)\n",
    "    return bbox\n",
    "\n",
    "def min_max(img):\n",
    "    '''\n",
    "    Min-max normalization\n",
    "    '''\n",
    "    return (img - img.min()) / (img.max() - img.min())\n",
    "\n",
    "def read_mri(mr_path_dict, pad=0):\n",
    "\n",
    "    image_shape = nib.load(mr_path_dict['flair']).get_fdata().shape\n",
    "    bb_seg = get_bb_3D(nib.load(mr_path_dict['flair']).get_fdata())\n",
    "    (xmin, ymin, zmin, xmax, ymax, zmax) = bb_seg\n",
    "\n",
    "    xmin = np.max([0, xmin-pad])\n",
    "    ymin = np.max([0, ymin-pad])\n",
    "    zmin = np.max([0, zmin-pad])\n",
    "\n",
    "    xmax = np.min([image_shape[0]-1, xmax+pad])\n",
    "    ymax = np.min([image_shape[1]-1, ymax+pad])\n",
    "    zmax = np.min([image_shape[2]-1, zmax+pad])\n",
    "\n",
    "\n",
    "    img_dict = {}\n",
    "    for key in ['flair', 't1', 't1ce', 't2', 'seg']:\n",
    "        img = nib.load(mr_path_dict[key])\n",
    "        img_data = img.get_fdata()\n",
    "        img_dict[key] = img_data[xmin:xmax, ymin:ymax, zmin:zmax]\n",
    "\n",
    "    stacked_img = np.stack([min_max(img_dict['flair']), min_max(img_dict['t1']),min_max(img_dict['t1ce']),min_max(img_dict['t2'])], axis=0)\n",
    "    return stacked_img, img_dict['seg']\n"
   ]
  },
  {
   "cell_type": "code",
   "execution_count": 14,
   "id": "12cc3d40",
   "metadata": {},
   "outputs": [],
   "source": [
    "def plot_(image, seg, predicted=False):\n",
    "    #Overlay with Predicted\n",
    "    img = image[slice, :, :, :].squeeze()\n",
    "    img = utils.make_grid(img)\n",
    "    img = img.detach().cpu().numpy()\n",
    "    \n",
    "    print(img.shape)\n",
    "    \n",
    "    # plot images\n",
    "    plt.figure(figsize=(10, 8))\n",
    "    img_list = [img[i].T for i in range(channels)] # 1 image per channel\n",
    "    plt.imshow(np.hstack(img_list), cmap='Greys_r')\n",
    "    \n",
    "    ## plot segmentation mask ##\n",
    "    seg_img = torch.tensor(pred[slice].squeeze())\n",
    "    if not predicted:\n",
    "        seg_img = torch.tensor(seg_img.numpy()[:, ::-1].copy()) #flip\n",
    "    seg_img = utils.make_grid(seg_img).detach().cpu().numpy()\n",
    "    \n",
    "    print(np.unique(seg_img))\n",
    "\n",
    "    plt.imshow(np.hstack([seg_img[0].T]), cmap='Greys_r', alpha=0.3)\n",
    "    plt.show()\n",
    "    "
   ]
  },
  {
   "cell_type": "code",
   "execution_count": 126,
   "id": "111d7872",
   "metadata": {},
   "outputs": [],
   "source": [
    "def calculate_metrics(preds, targets, patient, tta=False):\n",
    "    \"\"\"\n",
    "    Parameters\n",
    "    ----------\n",
    "    preds:\n",
    "        torch tensor of size 1*C*Z*Y*X\n",
    "    targets:\n",
    "        torch tensor of same shape\n",
    "    patient :\n",
    "        The patient ID\n",
    "    tta:\n",
    "        is tta performed for this run\n",
    "    \"\"\"\n",
    "    pp = pprint.PrettyPrinter(indent=4)\n",
    "    assert preds.shape == targets.shape, \"Preds and targets do not have the same size\"\n",
    "\n",
    "    labels = [\"ET\", \"TC\", \"WT\"]\n",
    "\n",
    "    metrics_list = []\n",
    "\n",
    "    for i, label in enumerate(labels):\n",
    "        metrics = dict(\n",
    "            patient_id=patient,\n",
    "            label=label,\n",
    "            tta=tta,\n",
    "        )\n",
    "\n",
    "        if np.sum(targets[i]) == 0:\n",
    "            print(f\"{label} not present for {patient}\")\n",
    "            sens = np.nan\n",
    "            dice = 1 if np.sum(preds[i]) == 0 else 0\n",
    "            tn = np.sum(l_and(l_not(preds[i]), l_not(targets[i])))\n",
    "            fp = np.sum(l_and(preds[i], l_not(targets[i])))\n",
    "            spec = tn / (tn + fp)\n",
    "            haussdorf_dist = np.nan\n",
    "\n",
    "        else:\n",
    "            preds_coords = np.argwhere(preds[i])\n",
    "            targets_coords = np.argwhere(targets[i])\n",
    "            haussdorf_dist = directed_hausdorff(preds_coords, targets_coords)[0]\n",
    "\n",
    "            tp = np.sum(l_and(preds[i], targets[i]))\n",
    "            tn = np.sum(l_and(l_not(preds[i]), l_not(targets[i])))\n",
    "            fp = np.sum(l_and(preds[i], l_not(targets[i])))\n",
    "            fn = np.sum(l_and(l_not(preds[i]), targets[i]))\n",
    "\n",
    "            sens = tp / (tp + fn)\n",
    "            spec = tn / (tn + fp)\n",
    "\n",
    "            dice = 2 * tp / (2 * tp + fp + fn)\n",
    "\n",
    "        metrics[HAUSSDORF] = haussdorf_dist\n",
    "        metrics[DICE] = dice\n",
    "        metrics[SENS] = sens\n",
    "        metrics[SPEC] = spec\n",
    "        pp.pprint(metrics)\n",
    "        metrics_list.append(metrics)\n",
    "\n",
    "    return metrics_list\n",
    "\n",
    "\n",
    "HAUSSDORF = \"haussdorf\"\n",
    "DICE = \"dice\"\n",
    "SENS = \"sens\"\n",
    "SPEC = \"spec\"\n",
    "METRICS = [HAUSSDORF, DICE, SENS, SPEC]\n"
   ]
  },
  {
   "cell_type": "code",
   "execution_count": 127,
   "id": "93fbca31",
   "metadata": {},
   "outputs": [],
   "source": [
    "class GeneralDataset(Dataset):\n",
    "\n",
    "    def __init__(self,\n",
    "                metadata_df,\n",
    "                root_dir,\n",
    "                transform=None,\n",
    "                seg_transform=None, ###\n",
    "                dataformat=None, # indicates what shape (or content) should be returned (2D or 3D, etc.)\n",
    "                returndims=None, # what size/shape 3D volumes should be returned as.\n",
    "                visualize=False,\n",
    "                modality=None,\n",
    "                pad=2,\n",
    "                device='cpu'):\n",
    "        \"\"\"\n",
    "        Args:\n",
    "            metadata_df (string): Path to the csv file w/ patient IDs\n",
    "            root_dir (string): Directory for MR images\n",
    "            transform (callable, optional)\n",
    "        \"\"\"\n",
    "        self.device=device\n",
    "        self.metadata_df = metadata_df\n",
    "        self.root_dir = root_dir\n",
    "        self.transform = transform\n",
    "        self.seg_transform = seg_transform\n",
    "        self.returndims=returndims\n",
    "        self.modality = modality\n",
    "        self.pad = pad\n",
    "\n",
    "\n",
    "    def __len__(self):\n",
    "        return len(self.metadata_df)\n",
    "\n",
    "    def __getitem__(self, idx):\n",
    "        print(type(idx), idx)\n",
    "        if torch.is_tensor(idx):\n",
    "            idx = idx.tolist()\n",
    "\n",
    "        BraTS20ID = self.metadata_df.iloc[idx].BraTS_2020_subject_ID\n",
    "\n",
    "        # make dictonary of paths to MRI volumnes (modalities) and segmenation masks\n",
    "        mr_path_dict = {}\n",
    "        sequence_type = ['seg', 't1', 't1ce', 'flair', 't2']\n",
    "        for seq in sequence_type:\n",
    "            mr_path_dict[seq] = os.path.join(self.root_dir, BraTS20ID, BraTS20ID + '_'+seq+'.nii.gz')\n",
    "\n",
    "        image, seg_image = read_mri(mr_path_dict=mr_path_dict, pad=self.pad)\n",
    "        \n",
    "        if seg_image is not None:\n",
    "            seg_image[seg_image == 4] = 3\n",
    "\n",
    "        if self.transform:\n",
    "            image = self.transform(image)\n",
    "        if self.seg_transform:\n",
    "            seg_image = self.seg_transform(seg_image)\n",
    "        else:\n",
    "            print('no transform')\n",
    "        print(image.shape)\n",
    "        return (image, seg_image), BraTS20ID"
   ]
  },
  {
   "cell_type": "code",
   "execution_count": 128,
   "id": "5309f88c",
   "metadata": {},
   "outputs": [],
   "source": [
    "transformed_dataset_train = GeneralDataset(metadata_df=train_df, \n",
    "                                           root_dir=image_dir,\n",
    "                                           transform=train_transformations,\n",
    "                                           seg_transform=seg_transformations,\n",
    "                                           returndims=resize_shape)\n",
    "\n",
    "transformed_dataset_valid = GeneralDataset(metadata_df=valid_df, \n",
    "                                           root_dir=image_dir,\n",
    "                                           transform=train_transformations,\n",
    "                                           seg_transform=seg_transformations,\n",
    "                                           returndims=resize_shape)"
   ]
  },
  {
   "cell_type": "code",
   "execution_count": 154,
   "id": "f016e48c",
   "metadata": {},
   "outputs": [],
   "source": [
    "train_batch_size = 1\n",
    "dataloader_train = DataLoader(transformed_dataset_train, batch_size=train_batch_size, shuffle=True, num_workers=0)\n",
    "dataloader_valid = DataLoader(transformed_dataset_valid, batch_size=train_batch_size, shuffle=True, num_workers=0)"
   ]
  },
  {
   "cell_type": "code",
   "execution_count": 155,
   "id": "9b35b384",
   "metadata": {},
   "outputs": [
    {
     "name": "stdout",
     "output_type": "stream",
     "text": [
      "<class 'int'> 16\n",
      "torch.Size([4, 144, 144, 144])\n"
     ]
    }
   ],
   "source": [
    "data = next(iter(dataloader_train))\n",
    "(image, seg_image), bratsID = data"
   ]
  },
  {
   "cell_type": "code",
   "execution_count": 156,
   "id": "edde528c",
   "metadata": {},
   "outputs": [
    {
     "name": "stdout",
     "output_type": "stream",
     "text": [
      "torch.Size([144, 4, 144, 144])\n"
     ]
    },
    {
     "data": {
      "text/plain": [
       "torch.Size([144, 1, 144, 144])"
      ]
     },
     "execution_count": 156,
     "metadata": {},
     "output_type": "execute_result"
    }
   ],
   "source": [
    "# N, i, x, y, z -> N, z, i, x, y\n",
    "# 0, 1, 2, 3, 4 -> 0, 4, 1, 2, 3\n",
    "p_image = torch.squeeze(torch.permute(image, (0, 4, 1, 2, 3)))\n",
    "p_seg_image = torch.squeeze(torch.permute(seg_image, (0, 4, 1, 2, 3)), 0)\n",
    "\n",
    "print(p_image.size())\n",
    "p_seg_image.size()"
   ]
  },
  {
   "cell_type": "code",
   "execution_count": 157,
   "id": "3bbe1e83",
   "metadata": {},
   "outputs": [],
   "source": [
    "# Set random seed for reproduciablity\n",
    "torch.manual_seed(577)\n",
    "random.seed(577)\n"
   ]
  },
  {
   "cell_type": "code",
   "execution_count": 158,
   "id": "5eceb4c9",
   "metadata": {},
   "outputs": [
    {
     "name": "stderr",
     "output_type": "stream",
     "text": [
      "Using cache found in /Users/wisdomikezogwo/.cache/torch/hub/mateuszbuda_brain-segmentation-pytorch_master\n"
     ]
    }
   ],
   "source": [
    "model = torch.hub.load('mateuszbuda/brain-segmentation-pytorch', 'unet',\n",
    "                        in_channels=4, out_channels=4, init_features=4,\n",
    "                        pretrained=False)\n",
    "\n",
    "criterion = torch.nn.CrossEntropyLoss()\n",
    "optimizer = torch.optim.AdamW(model.parameters(), lr=0.001)"
   ]
  },
  {
   "cell_type": "code",
   "execution_count": 136,
   "id": "d04ef877",
   "metadata": {},
   "outputs": [],
   "source": [
    "### Training loop here\n",
    "use_cuda = torch.cuda.is_available()\n",
    "if use_cuda:\n",
    "    model = model.cuda()\n",
    "\n",
    "\n",
    "num_epochs = 10\n",
    "\n",
    "for epoch in range(num_epochs):\n",
    "    losses = []\n",
    "    if dataloader_train is None or optimizer is None:\n",
    "        break  # NotImplementedError\n",
    "    for data in tqdm.tqdm(dataloader_train):\n",
    "        (image, seg_image), bratsID = data\n",
    "        \n",
    "        p_image = torch.squeeze(torch.permute(image, (0, 4, 1, 2, 3))) \n",
    "        p_seg_image = torch.squeeze(torch.permute(seg_image, (0, 4, 1, 2, 3))) \n",
    "\n",
    "        if use_cuda:\n",
    "            p_image, p_seg_image = p_image.cuda(), p_seg_image.cuda() \n",
    "        pred = model(p_image.float())\n",
    "        loss = criterion(pred, p_seg_image.long())\n",
    "        \n",
    "        print(loss.item())\n",
    "        \n",
    "        loss.backward()\n",
    "        optimizer.step()\n",
    "        optimizer.zero_grad()\n",
    "\n",
    "    losses.append(loss.item())\n",
    "\n",
    "    print(\"Epoch:\", epoch, \"Mean Loss:\", np.mean(losses))\n",
    "\n",
    "###End"
   ]
  },
  {
   "cell_type": "code",
   "execution_count": null,
   "id": "6e2932f0",
   "metadata": {},
   "outputs": [],
   "source": [
    "torch.save({\n",
    "            'epoch': epoch,\n",
    "            'model_state_dict': model.state_dict(),\n",
    "            'optimizer_state_dict': optimizer.state_dict(),\n",
    "            'loss': loss,\n",
    "            }, 'drive/MyDrive/Colab Notebooks/resumable_third_10_50e_mriseg.pt')"
   ]
  },
  {
   "cell_type": "code",
   "execution_count": 159,
   "id": "75df259e",
   "metadata": {
    "scrolled": true
   },
   "outputs": [
    {
     "data": {
      "text/plain": [
       "UNet(\n",
       "  (encoder1): Sequential(\n",
       "    (enc1conv1): Conv2d(4, 4, kernel_size=(3, 3), stride=(1, 1), padding=(1, 1), bias=False)\n",
       "    (enc1norm1): BatchNorm2d(4, eps=1e-05, momentum=0.1, affine=True, track_running_stats=True)\n",
       "    (enc1relu1): ReLU(inplace=True)\n",
       "    (enc1conv2): Conv2d(4, 4, kernel_size=(3, 3), stride=(1, 1), padding=(1, 1), bias=False)\n",
       "    (enc1norm2): BatchNorm2d(4, eps=1e-05, momentum=0.1, affine=True, track_running_stats=True)\n",
       "    (enc1relu2): ReLU(inplace=True)\n",
       "  )\n",
       "  (pool1): MaxPool2d(kernel_size=2, stride=2, padding=0, dilation=1, ceil_mode=False)\n",
       "  (encoder2): Sequential(\n",
       "    (enc2conv1): Conv2d(4, 8, kernel_size=(3, 3), stride=(1, 1), padding=(1, 1), bias=False)\n",
       "    (enc2norm1): BatchNorm2d(8, eps=1e-05, momentum=0.1, affine=True, track_running_stats=True)\n",
       "    (enc2relu1): ReLU(inplace=True)\n",
       "    (enc2conv2): Conv2d(8, 8, kernel_size=(3, 3), stride=(1, 1), padding=(1, 1), bias=False)\n",
       "    (enc2norm2): BatchNorm2d(8, eps=1e-05, momentum=0.1, affine=True, track_running_stats=True)\n",
       "    (enc2relu2): ReLU(inplace=True)\n",
       "  )\n",
       "  (pool2): MaxPool2d(kernel_size=2, stride=2, padding=0, dilation=1, ceil_mode=False)\n",
       "  (encoder3): Sequential(\n",
       "    (enc3conv1): Conv2d(8, 16, kernel_size=(3, 3), stride=(1, 1), padding=(1, 1), bias=False)\n",
       "    (enc3norm1): BatchNorm2d(16, eps=1e-05, momentum=0.1, affine=True, track_running_stats=True)\n",
       "    (enc3relu1): ReLU(inplace=True)\n",
       "    (enc3conv2): Conv2d(16, 16, kernel_size=(3, 3), stride=(1, 1), padding=(1, 1), bias=False)\n",
       "    (enc3norm2): BatchNorm2d(16, eps=1e-05, momentum=0.1, affine=True, track_running_stats=True)\n",
       "    (enc3relu2): ReLU(inplace=True)\n",
       "  )\n",
       "  (pool3): MaxPool2d(kernel_size=2, stride=2, padding=0, dilation=1, ceil_mode=False)\n",
       "  (encoder4): Sequential(\n",
       "    (enc4conv1): Conv2d(16, 32, kernel_size=(3, 3), stride=(1, 1), padding=(1, 1), bias=False)\n",
       "    (enc4norm1): BatchNorm2d(32, eps=1e-05, momentum=0.1, affine=True, track_running_stats=True)\n",
       "    (enc4relu1): ReLU(inplace=True)\n",
       "    (enc4conv2): Conv2d(32, 32, kernel_size=(3, 3), stride=(1, 1), padding=(1, 1), bias=False)\n",
       "    (enc4norm2): BatchNorm2d(32, eps=1e-05, momentum=0.1, affine=True, track_running_stats=True)\n",
       "    (enc4relu2): ReLU(inplace=True)\n",
       "  )\n",
       "  (pool4): MaxPool2d(kernel_size=2, stride=2, padding=0, dilation=1, ceil_mode=False)\n",
       "  (bottleneck): Sequential(\n",
       "    (bottleneckconv1): Conv2d(32, 64, kernel_size=(3, 3), stride=(1, 1), padding=(1, 1), bias=False)\n",
       "    (bottlenecknorm1): BatchNorm2d(64, eps=1e-05, momentum=0.1, affine=True, track_running_stats=True)\n",
       "    (bottleneckrelu1): ReLU(inplace=True)\n",
       "    (bottleneckconv2): Conv2d(64, 64, kernel_size=(3, 3), stride=(1, 1), padding=(1, 1), bias=False)\n",
       "    (bottlenecknorm2): BatchNorm2d(64, eps=1e-05, momentum=0.1, affine=True, track_running_stats=True)\n",
       "    (bottleneckrelu2): ReLU(inplace=True)\n",
       "  )\n",
       "  (upconv4): ConvTranspose2d(64, 32, kernel_size=(2, 2), stride=(2, 2))\n",
       "  (decoder4): Sequential(\n",
       "    (dec4conv1): Conv2d(64, 32, kernel_size=(3, 3), stride=(1, 1), padding=(1, 1), bias=False)\n",
       "    (dec4norm1): BatchNorm2d(32, eps=1e-05, momentum=0.1, affine=True, track_running_stats=True)\n",
       "    (dec4relu1): ReLU(inplace=True)\n",
       "    (dec4conv2): Conv2d(32, 32, kernel_size=(3, 3), stride=(1, 1), padding=(1, 1), bias=False)\n",
       "    (dec4norm2): BatchNorm2d(32, eps=1e-05, momentum=0.1, affine=True, track_running_stats=True)\n",
       "    (dec4relu2): ReLU(inplace=True)\n",
       "  )\n",
       "  (upconv3): ConvTranspose2d(32, 16, kernel_size=(2, 2), stride=(2, 2))\n",
       "  (decoder3): Sequential(\n",
       "    (dec3conv1): Conv2d(32, 16, kernel_size=(3, 3), stride=(1, 1), padding=(1, 1), bias=False)\n",
       "    (dec3norm1): BatchNorm2d(16, eps=1e-05, momentum=0.1, affine=True, track_running_stats=True)\n",
       "    (dec3relu1): ReLU(inplace=True)\n",
       "    (dec3conv2): Conv2d(16, 16, kernel_size=(3, 3), stride=(1, 1), padding=(1, 1), bias=False)\n",
       "    (dec3norm2): BatchNorm2d(16, eps=1e-05, momentum=0.1, affine=True, track_running_stats=True)\n",
       "    (dec3relu2): ReLU(inplace=True)\n",
       "  )\n",
       "  (upconv2): ConvTranspose2d(16, 8, kernel_size=(2, 2), stride=(2, 2))\n",
       "  (decoder2): Sequential(\n",
       "    (dec2conv1): Conv2d(16, 8, kernel_size=(3, 3), stride=(1, 1), padding=(1, 1), bias=False)\n",
       "    (dec2norm1): BatchNorm2d(8, eps=1e-05, momentum=0.1, affine=True, track_running_stats=True)\n",
       "    (dec2relu1): ReLU(inplace=True)\n",
       "    (dec2conv2): Conv2d(8, 8, kernel_size=(3, 3), stride=(1, 1), padding=(1, 1), bias=False)\n",
       "    (dec2norm2): BatchNorm2d(8, eps=1e-05, momentum=0.1, affine=True, track_running_stats=True)\n",
       "    (dec2relu2): ReLU(inplace=True)\n",
       "  )\n",
       "  (upconv1): ConvTranspose2d(8, 4, kernel_size=(2, 2), stride=(2, 2))\n",
       "  (decoder1): Sequential(\n",
       "    (dec1conv1): Conv2d(8, 4, kernel_size=(3, 3), stride=(1, 1), padding=(1, 1), bias=False)\n",
       "    (dec1norm1): BatchNorm2d(4, eps=1e-05, momentum=0.1, affine=True, track_running_stats=True)\n",
       "    (dec1relu1): ReLU(inplace=True)\n",
       "    (dec1conv2): Conv2d(4, 4, kernel_size=(3, 3), stride=(1, 1), padding=(1, 1), bias=False)\n",
       "    (dec1norm2): BatchNorm2d(4, eps=1e-05, momentum=0.1, affine=True, track_running_stats=True)\n",
       "    (dec1relu2): ReLU(inplace=True)\n",
       "  )\n",
       "  (conv): Conv2d(4, 4, kernel_size=(1, 1), stride=(1, 1))\n",
       ")"
      ]
     },
     "execution_count": 159,
     "metadata": {},
     "output_type": "execute_result"
    }
   ],
   "source": [
    "model = torch.load('second_100_mriseg.pt', map_location=torch.device('cpu'))\n",
    "model.eval()"
   ]
  },
  {
   "cell_type": "code",
   "execution_count": 160,
   "id": "d164896c",
   "metadata": {},
   "outputs": [],
   "source": [
    "\n",
    "pred = model(p_image.float())\n",
    "#pred = model(p_image[:, 0, :, :].unsqueeze(1).float()) # only for 0(flair) modality model"
   ]
  },
  {
   "cell_type": "code",
   "execution_count": 161,
   "id": "d7b5648d",
   "metadata": {},
   "outputs": [],
   "source": [
    "slice = 72"
   ]
  },
  {
   "cell_type": "code",
   "execution_count": 163,
   "id": "0512b798",
   "metadata": {},
   "outputs": [
    {
     "data": {
      "text/plain": [
       "<matplotlib.image.AxesImage at 0x7fe0f28abf40>"
      ]
     },
     "execution_count": 163,
     "metadata": {},
     "output_type": "execute_result"
    },
    {
     "data": {
      "image/png": "[encoded data removed]",
      "text/plain": [
       "<Figure size 432x288 with 1 Axes>"
      ]
     },
     "metadata": {
      "needs_background": "light"
     },
     "output_type": "display_data"
    }
   ],
   "source": [
    "plt.imshow(cv2.resize(pred[slice, 1, :, :].detach().cpu().numpy(), (160, 160), interpolation = cv2.INTER_NEAREST))\n"
   ]
  },
  {
   "cell_type": "code",
   "execution_count": 164,
   "id": "f1661078",
   "metadata": {},
   "outputs": [],
   "source": [
    "pred_seg = torch.sigmoid(pred)\n",
    "segs = pred_seg.permute(1, 0, 2, 3).detach().cpu().numpy() > 0.52   #4, 144, 144, 144 now i.e c, d, h, w"
   ]
  },
  {
   "cell_type": "code",
   "execution_count": 165,
   "id": "e946112d",
   "metadata": {},
   "outputs": [
    {
     "data": {
      "text/plain": [
       "tensor([0.9526, 0.0932, 0.0505, 0.0461], grad_fn=<SelectBackward>)"
      ]
     },
     "execution_count": 165,
     "metadata": {},
     "output_type": "execute_result"
    }
   ],
   "source": [
    "pred[0, :, 0, 8]"
   ]
  },
  {
   "cell_type": "code",
   "execution_count": 166,
   "id": "5e93f354",
   "metadata": {},
   "outputs": [
    {
     "data": {
      "text/plain": [
       "tensor([0.7216, 0.5233, 0.5126, 0.5115], grad_fn=<SelectBackward>)"
      ]
     },
     "execution_count": 166,
     "metadata": {},
     "output_type": "execute_result"
    }
   ],
   "source": [
    "pred_seg[0, :, 0, 8]"
   ]
  },
  {
   "cell_type": "code",
   "execution_count": 167,
   "id": "95f92d37",
   "metadata": {},
   "outputs": [
    {
     "name": "stdout",
     "output_type": "stream",
     "text": [
      "voxel values : [0. 1. 2. 3.]\n"
     ]
    }
   ],
   "source": [
    "#On predictions- get Regions\n",
    "et = segs[1]\n",
    "net = np.logical_and(segs[2], np.logical_not(et))\n",
    "ed = np.logical_and(segs[3], np.logical_not(segs[2]))\n",
    "\n",
    "labelmap = np.zeros(segs[1].shape)\n",
    "labelmap[et] = 3\n",
    "labelmap[net] = 1\n",
    "labelmap[ed] = 2\n",
    "\n",
    "print(f\"voxel values : {np.unique(labelmap)}\")"
   ]
  },
  {
   "cell_type": "code",
   "execution_count": 168,
   "id": "eaf0e836",
   "metadata": {},
   "outputs": [
    {
     "name": "stdout",
     "output_type": "stream",
     "text": [
      "pixel values: [0. 1. 3.]\n"
     ]
    },
    {
     "data": {
      "image/png": "[encoded data removed]",
      "text/plain": [
       "<Figure size 432x288 with 1 Axes>"
      ]
     },
     "metadata": {
      "needs_background": "light"
     },
     "output_type": "display_data"
    }
   ],
   "source": [
    "#visualize any 2d slice\n",
    "\n",
    "plt.imshow(labelmap[slice])\n",
    "print(f\"pixel values: {np.unique(labelmap[slice])}\")"
   ]
  },
  {
   "cell_type": "code",
   "execution_count": null,
   "id": "69d214c5",
   "metadata": {},
   "outputs": [],
   "source": []
  },
  {
   "cell_type": "code",
   "execution_count": 169,
   "id": "aa40d7a5",
   "metadata": {},
   "outputs": [],
   "source": [
    "ref_seg = p_seg_image.squeeze()\n",
    "refmap_et, refmap_tc, refmap_wt = [np.zeros_like(ref_seg) for i in range(3)]\n",
    "refmap_et = ref_seg == 3\n",
    "refmap_tc = np.logical_or(refmap_et, ref_seg == 1)\n",
    "refmap_wt = np.logical_or(refmap_tc, ref_seg == 2)\n",
    "refmap = np.stack([refmap_et, refmap_tc, refmap_wt])"
   ]
  },
  {
   "cell_type": "code",
   "execution_count": 170,
   "id": "e25e5068",
   "metadata": {},
   "outputs": [
    {
     "name": "stdout",
     "output_type": "stream",
     "text": [
      "{   'dice': 0.007601672367920942,\n",
      "    'haussdorf': 146.27371602581238,\n",
      "    'label': 'ET',\n",
      "    'patient_id': 'test',\n",
      "    'sens': 0.35485460818137016,\n",
      "    'spec': 0.8120575979639565,\n",
      "    'tta': False}\n",
      "{   'dice': 0.018045692039750025,\n",
      "    'haussdorf': 129.50289572052048,\n",
      "    'label': 'TC',\n",
      "    'patient_id': 'test',\n",
      "    'sens': 0.8851101463257759,\n",
      "    'spec': 0.5975586051132217,\n",
      "    'tta': False}\n",
      "{   'dice': 0.03205091758001023,\n",
      "    'haussdorf': 119.43198901466893,\n",
      "    'label': 'WT',\n",
      "    'patient_id': 'test',\n",
      "    'sens': 0.11629572097764618,\n",
      "    'spec': 0.8257321473958718,\n",
      "    'tta': False}\n"
     ]
    }
   ],
   "source": [
    "patient_metric_list = calculate_metrics(segs[1:], refmap, 'test')"
   ]
  },
  {
   "cell_type": "code",
   "execution_count": 171,
   "id": "61b32acc",
   "metadata": {},
   "outputs": [
    {
     "name": "stdout",
     "output_type": "stream",
     "text": [
      "(4, 144, 144)\n",
      "torch.Size([144, 144])\n",
      "[0.0000000e+00 1.2664166e-14 2.5328332e-14 3.7992497e-14 5.0656663e-14\n",
      " 6.3320829e-14 7.5984995e-14 1.0000000e+00 2.0000000e+00 3.0000000e+00]\n"
     ]
    },
    {
     "data": {
      "image/png": "[encoded data removed]",
      "text/plain": [
       "<Figure size 720x576 with 1 Axes>"
      ]
     },
     "metadata": {
      "needs_background": "light"
     },
     "output_type": "display_data"
    }
   ],
   "source": [
    "#Overlay with Ground seg\n",
    "\n",
    "\n",
    "\n",
    "img = p_image[slice, :, :, :].squeeze()\n",
    "img = utils.make_grid(img)\n",
    "img = img.detach().cpu().numpy()\n",
    "print(img.shape)\n",
    "# plot images\n",
    "plt.figure(figsize=(10, 8))\n",
    "img_list = [img[i].T for i in range(channels)] # 1 image per channel\n",
    "plt.imshow(np.hstack(img_list), cmap='Greys_r')\n",
    "\n",
    "\n",
    "## plot segmentation mask ##\n",
    "seg_img = p_seg_image[slice, :, :, :].squeeze()\n",
    "print(seg_img.shape)\n",
    "seg_img = torch.tensor(seg_img.numpy()[:, ::-1].copy()) #flip\n",
    "seg_img = utils.make_grid(seg_img).detach().cpu().numpy()\n",
    "\n",
    "print(np.unique(p_seg_image))\n",
    "#seg_img = seg_img > 1\n",
    "plt.imshow(np.hstack([seg_img[0].T]), cmap='Greys_r', alpha=0.5)\n",
    "plt.show()"
   ]
  },
  {
   "cell_type": "code",
   "execution_count": 172,
   "id": "a371f744",
   "metadata": {},
   "outputs": [
    {
     "name": "stdout",
     "output_type": "stream",
     "text": [
      "(4, 144, 144)\n",
      "[0. 1. 3.]\n"
     ]
    },
    {
     "data": {
      "image/png": "[encoded data removed]",
      "text/plain": [
       "<Figure size 720x576 with 1 Axes>"
      ]
     },
     "metadata": {
      "needs_background": "light"
     },
     "output_type": "display_data"
    }
   ],
   "source": [
    "#Overlay with Predicted\n",
    "img = p_image[slice, :, :, :].squeeze()\n",
    "img = utils.make_grid(img)\n",
    "img = img.detach().cpu().numpy()\n",
    "print(img.shape)\n",
    "# plot images\n",
    "plt.figure(figsize=(10, 8))\n",
    "img_list = [img[i].T for i in range(channels)] # 1 image per channel\n",
    "plt.imshow(np.hstack(img_list), cmap='Greys_r')\n",
    "## plot segmentation mask ##\n",
    "seg_img = torch.tensor(labelmap[slice, :, :].squeeze())\n",
    "seg_img = utils.make_grid(seg_img).detach().cpu().numpy()\n",
    "print(np.unique(seg_img))\n",
    "\n",
    "#plt.figure(figsize=(4, 4))\n",
    "plt.imshow(np.hstack([seg_img[0].T]), cmap='Greys_r', alpha=0.3)\n",
    "plt.show()"
   ]
  },
  {
   "cell_type": "code",
   "execution_count": null,
   "id": "fd4e6ca2",
   "metadata": {},
   "outputs": [],
   "source": []
  }
 ],
 "metadata": {
  "kernelspec": {
   "display_name": "Python 3 (ipykernel)",
   "language": "python",
   "name": "python3"
  },
  "language_info": {
   "codemirror_mode": {
    "name": "ipython",
    "version": 3
   },
   "file_extension": ".py",
   "mimetype": "text/x-python",
   "name": "python",
   "nbconvert_exporter": "python",
   "pygments_lexer": "ipython3",
   "version": "3.8.10"
  }
 },
 "nbformat": 4,
 "nbformat_minor": 5
}
